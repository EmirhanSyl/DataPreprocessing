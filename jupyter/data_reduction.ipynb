{
 "cells": [
  {
   "cell_type": "markdown",
   "metadata": {},
   "source": [
    "# Data Reduction\n"
   ]
  },
  {
   "cell_type": "code",
   "execution_count": null,
   "metadata": {},
   "outputs": [],
   "source": [
    "import pandas as pd\n",
    "import numpy as np\n",
    "import matplotlib.pyplot as plt\n",
    "import seaborn as sns\n",
    "from sklearn.decomposition import PCA, FastICA\n",
    "from sklearn.preprocessing import StandardScaler\n",
    "from sklearn.discriminant_analysis import LinearDiscriminantAnalysis\n"
   ]
  },
  {
   "cell_type": "code",
   "execution_count": null,
   "metadata": {},
   "outputs": [],
   "source": [
    "def perform_pca(df: pd.DataFrame):\n",
    "    '''Perform PCA and plot the result.'''\n",
    "    numeric_df = df.select_dtypes(include='number')\n",
    "    scaler = StandardScaler()\n",
    "    scaled_data = scaler.fit_transform(numeric_df)\n",
    "    pca = PCA(n_components=2)\n",
    "    pca_result = pca.fit_transform(scaled_data)\n",
    "\n",
    "    plt.figure(figsize=(10, 6))\n",
    "    plt.scatter(pca_result[:, 0], pca_result[:, 1])\n",
    "    plt.title('PCA Result')\n",
    "    plt.xlabel('Principal Component 1')\n",
    "    plt.ylabel('Principal Component 2')\n",
    "    plt.show()\n"
   ]
  },
  {
   "cell_type": "code",
   "execution_count": null,
   "metadata": {},
   "outputs": [],
   "source": [
    "def perform_ica(df: pd.DataFrame):\n",
    "    '''Perform ICA and plot the result.'''\n",
    "    numeric_df = df.select_dtypes(include='number')\n",
    "    scaler = StandardScaler()\n",
    "    scaled_data = scaler.fit_transform(numeric_df)\n",
    "    ica = FastICA(n_components=2, random_state=42)\n",
    "    ica_result = ica.fit_transform(scaled_data)\n",
    "\n",
    "    plt.figure(figsize=(10, 6))\n",
    "    plt.scatter(ica_result[:, 0], ica_result[:, 1])\n",
    "    plt.title('ICA Result')\n",
    "    plt.xlabel('Independent Component 1')\n",
    "    plt.ylabel('Independent Component 2')\n",
    "    plt.show()\n"
   ]
  },
  {
   "cell_type": "code",
   "execution_count": null,
   "metadata": {},
   "outputs": [],
   "source": [
    "def perform_lda(df: pd.DataFrame, target_col: str):\n",
    "    '''Perform LDA and plot the result.'''\n",
    "    if target_col not in df.columns:\n",
    "        raise ValueError(f\"Target column '{target_col}' not found in DataFrame.\")\n",
    "    \n",
    "    X = df.drop(columns=[target_col])\n",
    "    y = df[target_col]\n",
    "\n",
    "    # Encode categorical target variable\n",
    "    label_encoder = LabelEncoder()\n",
    "    y_encoded = label_encoder.fit_transform(y)\n",
    "\n",
    "    X = X.fillna(0)\n",
    "    scaler = StandardScaler()\n",
    "    X_scaled = scaler.fit_transform(X)\n",
    "\n",
    "    lda = LinearDiscriminantAnalysis(n_components=2)\n",
    "    lda_result = lda.fit_transform(X_scaled, y_encoded)\n",
    "\n",
    "    plt.figure(figsize=(10, 6))\n",
    "    plt.scatter(lda_result[:, 0], lda_result[:, 1], c=y_encoded, cmap='viridis')\n",
    "    plt.title('LDA Result')\n",
    "    plt.xlabel('LDA Dimension 1')\n",
    "    plt.ylabel('LDA Dimension 2')\n",
    "    plt.colorbar(label='Class')\n",
    "    plt.show()\n"
   ]
  },
  {
   "cell_type": "markdown",
   "metadata": {},
   "source": [
    "### Test\n"
   ]
  },
  {
   "cell_type": "code",
   "execution_count": null,
   "metadata": {},
   "outputs": [],
   "source": [
    "df = pd.read_csv(\"dataset/movies.csv\")\n",
    "df['Release Date'] = pd.to_datetime(df['Release Date'], errors='coerce')\n",
    "\n",
    "perform_pca(df)\n"
   ]
  },
  {
   "cell_type": "code",
   "execution_count": null,
   "metadata": {},
   "outputs": [],
   "source": []
  }
 ],
 "metadata": {
  "kernelspec": {
   "display_name": "base",
   "language": "python",
   "name": "python3"
  },
  "language_info": {
   "codemirror_mode": {
    "name": "ipython",
    "version": 3
   },
   "file_extension": ".py",
   "mimetype": "text/x-python",
   "name": "python",
   "nbconvert_exporter": "python",
   "pygments_lexer": "ipython3",
   "version": "3.11.7"
  }
 },
 "nbformat": 4,
 "nbformat_minor": 2
}
