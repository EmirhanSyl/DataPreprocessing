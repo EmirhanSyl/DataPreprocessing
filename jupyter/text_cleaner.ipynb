{
 "cells": [
  {
   "cell_type": "markdown",
   "metadata": {},
   "source": [
    "# Text Cleaner\n"
   ]
  },
  {
   "cell_type": "code",
   "execution_count": null,
   "metadata": {},
   "outputs": [],
   "source": [
    "import pandas as pd\n",
    "from typing import Union\n",
    "import re\n",
    "import nltk\n",
    "from nltk.corpus import stopwords\n",
    "from nltk.stem import WordNetLemmatizer, PorterStemmer\n",
    "from bs4 import BeautifulSoup\n",
    "from contractions import contractions_dict\n"
   ]
  },
  {
   "cell_type": "code",
   "execution_count": null,
   "metadata": {},
   "outputs": [],
   "source": [
    "def remove_repetitive_words(dataframe: pd.DataFrame, column: Union[str, int]) -> pd.DataFrame:\n",
    "    if column not in dataframe.columns:\n",
    "        raise ValueError(f\"Column '{column}' not found in DataFrame.\")\n",
    "    assert pd.api.types.is_string_dtype(dataframe[column]), f\"Column '{column} is not string type'\"\n",
    "\n",
    "    def remove_duplicates(text):\n",
    "        if pd.isna(text):\n",
    "            return text\n",
    "        words = text.split()\n",
    "        seen = set()\n",
    "        unique_words = []\n",
    "        for word in words:\n",
    "            if word not in seen:\n",
    "                unique_words.append(word)\n",
    "                seen.add(word)\n",
    "        return ' '.join(unique_words)\n",
    "\n",
    "    df_copy = dataframe.copy()\n",
    "    df_copy[column] = df_copy[column].apply(remove_duplicates)\n",
    "    return df_copy\n"
   ]
  },
  {
   "cell_type": "code",
   "execution_count": null,
   "metadata": {},
   "outputs": [],
   "source": [
    "def remove_stop_words(dataframe: pd.DataFrame, column: Union[str, int]):\n",
    "    if column not in dataframe.columns:\n",
    "        raise ValueError(f\"Column '{column}' not found in DataFrame.\")\n",
    "    assert pd.api.types.is_string_dtype(dataframe[column]), f\"Column '{column} is not string type'\"\n",
    "    \n",
    "    df_copy = dataframe.copy()\n",
    "    stop_words = set(stopwords.words('english'))\n",
    "    df_copy[column] = df_copy[column].apply(lambda x: ' '.join([word for word in x.split() if word.lower() not in stop_words]))\n",
    "    return df_copy\n"
   ]
  },
  {
   "cell_type": "code",
   "execution_count": null,
   "metadata": {},
   "outputs": [],
   "source": [
    "def remove_punctuation(dataframe: pd.DataFrame, column: Union[str, int]):\n",
    "    if column not in dataframe.columns:\n",
    "        raise ValueError(f\"Column '{column}' not found in DataFrame.\")\n",
    "    assert pd.api.types.is_string_dtype(dataframe[column]), f\"Column '{column} is not string type'\"\n",
    "    \n",
    "    df_copy = dataframe.copy()\n",
    "    df_copy[column] = df_copy[column].str.replace(r'[^\\w\\s]', '', regex=True)\n",
    "    return df_copy\n"
   ]
  },
  {
   "cell_type": "code",
   "execution_count": null,
   "metadata": {},
   "outputs": [],
   "source": [
    "def filter_words(dataframe: pd.DataFrame, column: Union[str, int], remove=['fword']):\n",
    "    if column not in dataframe.columns:\n",
    "        raise ValueError(f\"Column '{column}' not found in DataFrame.\")\n",
    "    assert pd.api.types.is_string_dtype(dataframe[column]), f\"Column '{column} is not string type'\"\n",
    "    \n",
    "    df_copy = dataframe.copy()\n",
    "    remove_set = set(remove)\n",
    "    df_copy[column] = df_copy[column].apply(lambda x: ' '.join([word for word in x.split() if word.lower() not in remove_set]))\n",
    "    return df_copy\n"
   ]
  },
  {
   "cell_type": "code",
   "execution_count": null,
   "metadata": {},
   "outputs": [],
   "source": [
    "def expand_contractions(dataframe: pd.DataFrame, column: Union[str, int]):\n",
    "    if column not in dataframe.columns:\n",
    "        raise ValueError(f\"Column '{column}' not found in DataFrame.\")\n",
    "    assert pd.api.types.is_string_dtype(dataframe[column]), f\"Column '{column} is not string type'\"\n",
    "    \n",
    "    contraction_re = re.compile('(%s)' % '|'.join(contractions_dict.keys()))\n",
    "    def expand_text(text):\n",
    "        def replace(match):\n",
    "            return contractions_dict[match.group(0)]\n",
    "        return contraction_re.sub(replace, text)\n",
    "    \n",
    "    df_copy = dataframe.copy()\n",
    "    df_copy[column] = df_copy[column].apply(lambda x: expand_text(x))\n",
    "    return df_copy\n"
   ]
  },
  {
   "cell_type": "code",
   "execution_count": null,
   "metadata": {},
   "outputs": [],
   "source": [
    "def lemmatization(dataframe: pd.DataFrame, column: Union[str, int]):\n",
    "    if column not in dataframe.columns:\n",
    "        raise ValueError(f\"Column '{column}' not found in DataFrame.\")\n",
    "    assert pd.api.types.is_string_dtype(dataframe[column]), f\"Column '{column} is not string type'\"\n",
    "    \n",
    "    df_copy = dataframe.copy()\n",
    "    lemmatizer = WordNetLemmatizer()\n",
    "    df_copy[column] = df_copy[column].apply(lambda x: ' '.join([lemmatizer.lemmatize(word) for word in x.split()]))\n",
    "    return df_copy\n"
   ]
  },
  {
   "cell_type": "markdown",
   "metadata": {},
   "source": [
    "### Test\n"
   ]
  },
  {
   "cell_type": "code",
   "execution_count": null,
   "metadata": {},
   "outputs": [],
   "source": [
    "df = pd.read_csv(\"dataset/movies.csv\")\n",
    "df['Release Date'] = pd.to_datetime(df['Release Date'], errors='coerce')\n",
    "filter_words(df, 'Title', ['gun'])\n"
   ]
  },
  {
   "cell_type": "code",
   "execution_count": null,
   "metadata": {},
   "outputs": [],
   "source": []
  }
 ],
 "metadata": {
  "kernelspec": {
   "display_name": "base",
   "language": "python",
   "name": "python3"
  },
  "language_info": {
   "codemirror_mode": {
    "name": "ipython",
    "version": 3
   },
   "file_extension": ".py",
   "mimetype": "text/x-python",
   "name": "python",
   "nbconvert_exporter": "python",
   "pygments_lexer": "ipython3",
   "version": "3.11.7"
  }
 },
 "nbformat": 4,
 "nbformat_minor": 2
}
