{
 "cells": [
  {
   "cell_type": "markdown",
   "metadata": {},
   "source": [
    "# Datetime Handler\n"
   ]
  },
  {
   "cell_type": "code",
   "execution_count": null,
   "metadata": {},
   "outputs": [],
   "source": [
    "import pandas as pd\n",
    "import pytz\n",
    "from datetime import datetime, timedelta\n",
    "from typing import Union\n"
   ]
  },
  {
   "cell_type": "code",
   "execution_count": null,
   "metadata": {},
   "outputs": [],
   "source": [
    "def extract_components(dataframe: pd.DataFrame, column: Union[str, int]) -> pd.DataFrame:\n",
    "    '''Extract date components (year, month, day, hour, minute, second) into separate columns.'''\n",
    "    if column not in dataframe.columns:\n",
    "        raise ValueError(f\"Column '{column}' not found in DataFrame.\")\n",
    "    assert pd.api.types.is_datetime64_any_dtype(dataframe[column]), f\"Column '{column} is not datetime type'\"\n",
    "    \n",
    "    df_copy = dataframe.copy()\n",
    "    df_copy['year'] = dataframe.iloc[:, column].dt.year\n",
    "    df_copy['month'] = dataframe.iloc[:, column].dt.month\n",
    "    df_copy['day'] = dataframe.iloc[:, column].dt.day\n",
    "    df_copy['hour'] = dataframe.iloc[:, column].dt.hour\n",
    "    df_copy['minute'] = dataframe.iloc[:, column].dt.minute\n",
    "    df_copy['second'] = dataframe.iloc[:, column].dt.second\n",
    "    return df_copy\n"
   ]
  },
  {
   "cell_type": "code",
   "execution_count": null,
   "metadata": {},
   "outputs": [],
   "source": [
    "def reformat_date(dataframe: pd.DataFrame, column: Union[str, int]) -> pd.DataFrame:\n",
    "    '''Reformat the datetime objects in the specified column to a different string format.'''\n",
    "    if column not in dataframe.columns:\n",
    "        raise ValueError(f\"Column '{column}' not found in DataFrame.\")\n",
    "    assert pd.api.types.is_datetime64_any_dtype(dataframe[column]), f\"Column '{column} is not datetime type'\"\n",
    "    \n",
    "    df_copy = dataframe.copy()\n",
    "    df_copy.iloc[:, column] = df_copy.iloc[:, column].apply(lambda x: x.strftime('%d-%m-%Y %H:%M:%S') if pd.notnull(x) else x)\n",
    "    return df_copy\n"
   ]
  },
  {
   "cell_type": "code",
   "execution_count": null,
   "metadata": {},
   "outputs": [],
   "source": [
    "def calculate_datetime_differences(dataframe: pd.DataFrame, column: Union[str, int]) -> pd.DataFrame:\n",
    "    '''Calculate the difference between consecutive datetime entries in the specified column.'''\n",
    "    if column not in dataframe.columns:\n",
    "        raise ValueError(f\"Column '{column}' not found in DataFrame.\")\n",
    "    assert pd.api.types.is_datetime64_any_dtype(dataframe[column]), f\"Column '{column} is not datetime type'\"\n",
    "    \n",
    "    df_copy = dataframe.copy()\n",
    "    df_copy['time_diff'] = df_copy.iloc[:, column].diff().dt.total_seconds()\n",
    "    return df_copy\n"
   ]
  },
  {
   "cell_type": "code",
   "execution_count": null,
   "metadata": {},
   "outputs": [],
   "source": [
    "def convert_datetime_to_different_timezones(dataframe: pd.DataFrame, column: Union[str, int], from_tz='UTC', to_tz='America/New_York') -> pd.DataFrame:\n",
    "    '''Convert datetime objects from one timezone to another.'''\n",
    "    if column not in dataframe.columns:\n",
    "        raise ValueError(f\"Column '{column}' not found in DataFrame.\")\n",
    "    assert pd.api.types.is_datetime64_any_dtype(dataframe[column]), f\"Column '{column} is not datetime type'\"\n",
    "    \n",
    "    df_copy = dataframe.copy()\n",
    "    from_zone = pytz.timezone(from_tz)\n",
    "    to_zone = pytz.timezone(to_tz)\n",
    "    def convert_timezone(dt):\n",
    "        if pd.notnull(dt):\n",
    "            dt = from_zone.localize(dt) if dt.tzinfo is None else dt\n",
    "            return dt.astimezone(to_zone)\n",
    "        return dt\n",
    "    df_copy.iloc[:, column] = df_copy.iloc[:, column].apply(convert_timezone)\n",
    "    return df_copy\n"
   ]
  },
  {
   "cell_type": "code",
   "execution_count": null,
   "metadata": {},
   "outputs": [],
   "source": [
    "def shift_time(dataframe: pd.DataFrame, column: Union[str, int], shift_value=1, unit='days') -> pd.DataFrame:\n",
    "    '''Shift the datetime values in the specified column by a given amount.'''\n",
    "    if column not in dataframe.columns:\n",
    "        raise ValueError(f\"Column '{column}' not found in DataFrame.\")\n",
    "    assert pd.api.types.is_datetime64_any_dtype(dataframe[column]), f\"Column '{column} is not datetime type'\"\n",
    "    \n",
    "    df_copy = dataframe.copy()\n",
    "    df_copy[column] = df_copy[column] + pd.to_timedelta(shift_value, unit=unit)\n",
    "    return df_copy\n"
   ]
  },
  {
   "cell_type": "markdown",
   "metadata": {},
   "source": [
    "### Test\n"
   ]
  },
  {
   "cell_type": "code",
   "execution_count": null,
   "metadata": {},
   "outputs": [],
   "source": [
    "df = pd.read_csv(\"dataset/movies.csv\")\n",
    "df['Release Date'] = pd.to_datetime(df['Release Date'], errors='coerce')\n",
    "shift_time(df, 'Release Date', 1)\n"
   ]
  },
  {
   "cell_type": "code",
   "execution_count": null,
   "metadata": {},
   "outputs": [],
   "source": []
  }
 ],
 "metadata": {
  "kernelspec": {
   "display_name": "base",
   "language": "python",
   "name": "python3"
  },
  "language_info": {
   "codemirror_mode": {
    "name": "ipython",
    "version": 3
   },
   "file_extension": ".py",
   "mimetype": "text/x-python",
   "name": "python",
   "nbconvert_exporter": "python",
   "pygments_lexer": "ipython3",
   "version": "3.11.7"
  }
 },
 "nbformat": 4,
 "nbformat_minor": 2
}
