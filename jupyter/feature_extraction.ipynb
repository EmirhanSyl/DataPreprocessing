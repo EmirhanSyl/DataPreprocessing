{
 "cells": [
  {
   "cell_type": "markdown",
   "metadata": {},
   "source": [
    "# Feature Extraction\n"
   ]
  },
  {
   "cell_type": "code",
   "execution_count": null,
   "metadata": {},
   "outputs": [],
   "source": [
    "import pandas as pd\n",
    "import numpy as np\n",
    "import matplotlib.pyplot as plt\n",
    "import seaborn as sns\n",
    "from sklearn.preprocessing import StandardScaler\n",
    "from sklearn.manifold import TSNE\n",
    "from sklearn.neighbors import KNeighborsClassifier\n",
    "from sklearn.preprocessing import LabelEncoder\n",
    "from sklearn.metrics import classification_report\n",
    "from scipy import stats\n"
   ]
  },
  {
   "cell_type": "markdown",
   "metadata": {},
   "source": [
    "### Data Exploration\n"
   ]
  },
  {
   "cell_type": "markdown",
   "metadata": {},
   "source": [
    "#### Statistical Exploration\n"
   ]
  },
  {
   "cell_type": "code",
   "execution_count": null,
   "metadata": {},
   "outputs": [],
   "source": [
    "def explore_statistically(dataframe: pd.DataFrame):\n",
    "    print(dataframe.describe(include='all'))\n",
    "    print(dataframe.info())\n"
   ]
  },
  {
   "cell_type": "code",
   "execution_count": null,
   "metadata": {},
   "outputs": [],
   "source": [
    "def get_values_count(dataframe: pd.DataFrame):\n",
    "    for col in dataframe.select_dtypes(include='object').columns:\n",
    "        print(dataframe[col].value_counts())\n"
   ]
  },
  {
   "cell_type": "markdown",
   "metadata": {},
   "source": [
    "#### Visual Exploration\n"
   ]
  },
  {
   "cell_type": "code",
   "execution_count": null,
   "metadata": {},
   "outputs": [],
   "source": [
    "def plot_histograms(df: pd.DataFrame):\n",
    "    '''Plot histograms for numeric columns.'''\n",
    "    df.select_dtypes(include='number').hist(figsize=(12, 10))\n",
    "    plt.suptitle('Histograms of Numeric Columns')\n",
    "    plt.show()\n"
   ]
  },
  {
   "cell_type": "code",
   "execution_count": null,
   "metadata": {},
   "outputs": [],
   "source": [
    "def plot_box_plots(df: pd.DataFrame):\n",
    "    '''Plot box plots for numeric columns.'''\n",
    "    for col in df.select_dtypes(include='number').columns:\n",
    "        plt.figure(figsize=(10, 4))\n",
    "        sns.boxplot(df[col])\n",
    "        plt.title(f'Box Plot of {col}')\n",
    "        plt.show()\n"
   ]
  },
  {
   "cell_type": "code",
   "execution_count": null,
   "metadata": {},
   "outputs": [],
   "source": [
    "def plot_bar_plots(df: pd.DataFrame):\n",
    "    '''Plot bar plots for categorical columns.'''\n",
    "    for col in df.select_dtypes(include='object').columns:\n",
    "        plt.figure(figsize=(10, 4))\n",
    "        sns.countplot(data=df, x=col)\n",
    "        plt.title(f'Bar Plot of {col}')\n",
    "        plt.show()\n"
   ]
  },
  {
   "cell_type": "code",
   "execution_count": null,
   "metadata": {},
   "outputs": [],
   "source": [
    "def plot_scatter_plot(df: pd.DataFrame, x_col: str, y_col: str):\n",
    "    '''Plot scatter plot between two numeric columns.'''\n",
    "    plt.figure(figsize=(10, 6))\n",
    "    sns.scatterplot(data=df, x=x_col, y=y_col)\n",
    "    plt.title(f'Scatter Plot between {x_col} and {y_col}')\n",
    "    plt.show()\n"
   ]
  },
  {
   "cell_type": "code",
   "execution_count": null,
   "metadata": {},
   "outputs": [],
   "source": [
    "def plot_pair_plots(df: pd.DataFrame):\n",
    "    '''Plot pair plots for all numeric columns.'''\n",
    "    sns.pairplot(df.select_dtypes(include='number'))\n",
    "    plt.show()\n"
   ]
  },
  {
   "cell_type": "code",
   "execution_count": null,
   "metadata": {},
   "outputs": [],
   "source": [
    "def plot_time_series(df: pd.DataFrame, date_col: str, value_col: str):\n",
    "    '''Plot time series data.'''\n",
    "    df[date_col] = pd.to_datetime(df[date_col])\n",
    "    plt.figure(figsize=(12, 6))\n",
    "    plt.plot(df[date_col], df[value_col])\n",
    "    plt.title('Time Series Plot')\n",
    "    plt.xlabel('Date')\n",
    "    plt.ylabel(value_col)\n",
    "    plt.show()\n"
   ]
  },
  {
   "cell_type": "code",
   "execution_count": null,
   "metadata": {},
   "outputs": [],
   "source": [
    "def perform_tsne(df: pd.DataFrame):\n",
    "    '''Perform t-SNE and plot the result.'''\n",
    "    numeric_df = df.select_dtypes(include='number').fillna(0)\n",
    "    scaler = StandardScaler()\n",
    "    scaled_data = scaler.fit_transform(numeric_df)\n",
    "    \n",
    "    tsne = TSNE(n_components=2, random_state=42)\n",
    "    tsne_result = tsne.fit_transform(scaled_data)\n",
    "\n",
    "    plt.figure(figsize=(10, 6))\n",
    "    plt.scatter(tsne_result[:, 0], tsne_result[:, 1])\n",
    "    plt.title('t-SNE Result')\n",
    "    plt.xlabel('t-SNE Dimension 1')\n",
    "    plt.ylabel('t-SNE Dimension 2')\n",
    "    plt.show()\n"
   ]
  },
  {
   "cell_type": "code",
   "execution_count": null,
   "metadata": {},
   "outputs": [],
   "source": [
    "def perform_knn(df: pd.DataFrame, target_col: str):\n",
    "    '''Perform k-NN classification and print classification report.'''\n",
    "    if target_col not in df.columns:\n",
    "        raise ValueError(f\"Target column '{target_col}' not found in DataFrame.\")\n",
    "    \n",
    "    # Prepare data\n",
    "    X = df.drop(columns=[target_col])\n",
    "    y = df[target_col]\n",
    "\n",
    "\n",
    "    from sklearn.model_selection import train_test_split\n",
    "    X_train, X_test, y_train, y_test = train_test_split(X, y, test_size=0.2, random_state=42)\n",
    "\n",
    "    # Train k-NN model\n",
    "    knn = KNeighborsClassifier(n_neighbors=5)\n",
    "    knn.fit(X_train, y_train)\n",
    "\n",
    "    # Predict and evaluate\n",
    "    y_pred = knn.predict(X_test)\n",
    "    print(\"k-NN Classification Report:\")\n",
    "    print(classification_report(y_test, y_pred, target_names=label_encoder.classes_))\n"
   ]
  },
  {
   "cell_type": "code",
   "execution_count": null,
   "metadata": {},
   "outputs": [],
   "source": [
    "def perform_statistical_test(df: pd.DataFrame, group_col: str, value_col: str):\n",
    "    '''Perform a t-test between two groups.'''\n",
    "    group1 = df[df[group_col] == 'A'][value_col]\n",
    "    group2 = df[df[group_col] == 'B'][value_col]\n",
    "    t_stat, p_value = stats.ttest_ind(group1, group2)\n",
    "    print(f'T-statistic: {t_stat}, P-value: {p_value}')\n"
   ]
  },
  {
   "cell_type": "markdown",
   "metadata": {},
   "source": [
    "### Test\n"
   ]
  },
  {
   "cell_type": "code",
   "execution_count": null,
   "metadata": {},
   "outputs": [],
   "source": [
    "df = pd.read_csv(\"dataset/movies.csv\")\n",
    "df['Release Date'] = pd.to_datetime(df['Release Date'], errors='coerce')\n",
    "\n",
    "plot_histograms(df)\n"
   ]
  },
  {
   "cell_type": "code",
   "execution_count": null,
   "metadata": {},
   "outputs": [],
   "source": []
  }
 ],
 "metadata": {
  "kernelspec": {
   "display_name": "base",
   "language": "python",
   "name": "python3"
  },
  "language_info": {
   "codemirror_mode": {
    "name": "ipython",
    "version": 3
   },
   "file_extension": ".py",
   "mimetype": "text/x-python",
   "name": "python",
   "nbconvert_exporter": "python",
   "pygments_lexer": "ipython3",
   "version": "3.11.7"
  }
 },
 "nbformat": 4,
 "nbformat_minor": 2
}
