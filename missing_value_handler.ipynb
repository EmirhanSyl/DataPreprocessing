{
 "cells": [
  {
   "cell_type": "markdown",
   "metadata": {},
   "source": [
    "# Missing Value Handler\n"
   ]
  },
  {
   "cell_type": "code",
   "execution_count": 3,
   "metadata": {},
   "outputs": [],
   "source": [
    "import pandas as pd\n",
    "import numpy as np\n",
    "from datetime import datetime\n",
    "from typing import Union\n"
   ]
  },
  {
   "cell_type": "markdown",
   "metadata": {},
   "source": [
    "### Analyse Missing Values\n"
   ]
  },
  {
   "cell_type": "code",
   "execution_count": 4,
   "metadata": {},
   "outputs": [],
   "source": [
    "def calculate_nan_ratios(df: pd.DataFrame, none_values: list = None) -> dict:\n",
    "    \"\"\"Calculate none ratio of dataset directly, considering specific values as NaNs.\"\"\"\n",
    "    if none_values is not None:\n",
    "        df = df.replace(none_values, np.nan)\n",
    "    nan_counts = df.isna().sum()\n",
    "    total_counts = len(df)\n",
    "    nan_ratios = nan_counts / total_counts\n",
    "    return nan_ratios \n"
   ]
  },
  {
   "cell_type": "code",
   "execution_count": 5,
   "metadata": {},
   "outputs": [],
   "source": [
    "def print_nan_ratios(df: pd.DataFrame, none_values: list = None):\n",
    "    def get_status(ratio):\n",
    "        if ratio > 0.20:\n",
    "            return 'Critical'\n",
    "        elif 0.05 <= ratio <= 0.20:\n",
    "            return 'Acceptable'\n",
    "        else:\n",
    "            return 'Good'\n",
    "        \n",
    "    overall_nan_ratio = calculate_nan_ratios(df, none_values)\n",
    "    \n",
    "    for column, ratio in overall_nan_ratio.items():\n",
    "        status = get_status(ratio)\n",
    "        dtype = df[column].dtype\n",
    "        if pd.api.types.is_datetime64_any_dtype(df[column]):\n",
    "            dtype = 'datetime'\n",
    "        elif pd.api.types.is_string_dtype(df[column]):\n",
    "            dtype = 'string'\n",
    "        print(f\"'{column}' \\nnone value ratio: {ratio:.2%} | Data type: {dtype} | Status: {status}\")\n"
   ]
  },
  {
   "cell_type": "markdown",
   "metadata": {},
   "source": [
    "### Handle Missing Values\n"
   ]
  },
  {
   "cell_type": "code",
   "execution_count": 6,
   "metadata": {},
   "outputs": [],
   "source": [
    "from enum import Enum \n",
    "class Strategy(Enum):\n",
    "    MODE = 0\n",
    "    MEAN = 1\n",
    "    MEDIAN = 2\n",
    "    CONSTANT = 3\n",
    "    REMOVE_ROW = 4\n",
    "    REMOVE_COLUMN = 5\n",
    "    FORWARD = 6\n",
    "    BACKWARD = 7\n"
   ]
  },
  {
   "cell_type": "code",
   "execution_count": 7,
   "metadata": {},
   "outputs": [],
   "source": [
    "def replace_mode(dataframe: pd.DataFrame, column: Union[int, str]) -> pd.DataFrame:\n",
    "        assert dataframe[column].mode().empty, f\"There is no mode value for column '{column}. Skipping mode replacement...'\"\n",
    "        df_copy = dataframe.copy()\n",
    "        \n",
    "        mode_value = df[column].mode()[0]\n",
    "        df_copy[column] = df_copy[column].fillna(mode_value)\n",
    "        return df_copy\n"
   ]
  },
  {
   "cell_type": "code",
   "execution_count": 8,
   "metadata": {},
   "outputs": [],
   "source": [
    "def replace_mean(dataframe: pd.DataFrame, column: Union[int, str]) -> pd.DataFrame:\n",
    "        df_copy = dataframe.copy()\n",
    "        if pd.api.types.is_numeric_dtype(df_copy[column]):\n",
    "            mean_value = df_copy[column].mean()\n",
    "            df_copy[column] = df_copy[column].fillna(mean_value)\n",
    "        else:\n",
    "            raise ValueError(f\"Column '{column}' is not numeric. Skipping mean replacement...\")\n",
    "        return df_copy\n"
   ]
  },
  {
   "cell_type": "code",
   "execution_count": 9,
   "metadata": {},
   "outputs": [],
   "source": [
    "def replace_median(dataframe: pd.DataFrame, column: Union[int, str]) -> pd.DataFrame:\n",
    "        assert pd.api.types.is_numeric_dtype(dataframe[column]), f\"Column '{column}' is not numeric. Skipping median replacement.\"\n",
    "\n",
    "        df_copy = dataframe.copy()\n",
    "        median_value = df_copy[column].median()\n",
    "        df_copy[column] = df_copy[column].fillna(median_value)\n",
    "        \n",
    "        return df_copy\n"
   ]
  },
  {
   "cell_type": "code",
   "execution_count": 10,
   "metadata": {},
   "outputs": [],
   "source": [
    "def replace_constant(dataframe: pd.DataFrame, column: Union[int, str], const: Union[int, str, datetime]) -> pd.DataFrame:\n",
    "       df_copy = dataframe.copy()\n",
    "       if pd.api.types.is_numeric_dtype(df_copy[column]) and (isinstance(const, int) or isinstance(const, float)):\n",
    "           const_value = const\n",
    "       elif pd.api.types.is_string_dtype(df_copy[column]) and isinstance(const, str):\n",
    "           const_value = const\n",
    "       elif pd.api.types.is_datetime64_any_dtype(df_copy[column]) and isinstance(const, datetime):\n",
    "           const_value = const\n",
    "       else:\n",
    "            raise ValueError(f\"Unsupported const type for column '{column}'\")\n",
    "        \n",
    "       df_copy[column] = df_copy[column].fillna(const_value)\n",
    "       return df_copy\n"
   ]
  },
  {
   "cell_type": "code",
   "execution_count": 11,
   "metadata": {},
   "outputs": [],
   "source": [
    "def replace_remove_row(dataframe: pd.DataFrame, column: Union[int, str]) -> pd.DataFrame:\n",
    "        df_copy = dataframe.copy()\n",
    "        return df_copy.dropna(subset=[column])\n",
    "\n",
    "def replace_remove_column(dataframe: pd.DataFrame, column: Union[int, str]) -> pd.DataFrame:\n",
    "    df_copy = dataframe.copy()\n",
    "    return df_copy.drop(columns=[column])\n"
   ]
  },
  {
   "cell_type": "code",
   "execution_count": 12,
   "metadata": {},
   "outputs": [],
   "source": [
    "def replace_forward_backward(dataframe: pd.DataFrame, column: Union[int, str], method: str = \"ffill\") -> pd.DataFrame:\n",
    "    df_copy = dataframe.copy()\n",
    "    df_copy[column] = df_copy[column].fillna(method)\n",
    "    return df_copy\n"
   ]
  },
  {
   "cell_type": "code",
   "execution_count": 13,
   "metadata": {},
   "outputs": [],
   "source": [
    "def replace_missing_values(dataframe: pd.DataFrame, strategy: Strategy = Strategy.MEAN, column: Union[int, str] = 0, const : Union[int, str, datetime] = np.nan) -> pd.DataFrame:\n",
    "    if column not in dataframe.columns:\n",
    "        raise ValueError(f\"Column '{column}' not found in DataFrame.\")\n",
    "    \n",
    "    if strategy == Strategy.MODE:\n",
    "        return replace_mode(dataframe, column)\n",
    "    elif strategy == Strategy.MEAN:\n",
    "        return replace_mean(dataframe, column)\n",
    "    elif strategy == Strategy.MEDIAN:\n",
    "        return replace_median(dataframe, column)\n",
    "    elif strategy == Strategy.CONSTANT:\n",
    "        return replace_constant(dataframe, column, const)\n",
    "    elif strategy == Strategy.REMOVE_ROW:\n",
    "        return replace_remove_row(dataframe, column)\n",
    "    elif strategy == Strategy.REMOVE_COLUMN:\n",
    "        return replace_remove_column(dataframe, column)\n",
    "    elif strategy == Strategy.FORWARD:\n",
    "        return replace_forward_backward(dataframe, column, \"ffill\")\n",
    "    elif strategy == Strategy.BACKWARD:\n",
    "        return replace_forward_backward(dataframe, column, \"bfill\")\n",
    "    else:\n",
    "        raise ValueError(\"Invalid strategy\")\n"
   ]
  },
  {
   "cell_type": "markdown",
   "metadata": {},
   "source": [
    "### Test\n"
   ]
  },
  {
   "cell_type": "code",
   "execution_count": 14,
   "metadata": {},
   "outputs": [
    {
     "name": "stdout",
     "output_type": "stream",
     "text": [
      "'Title' \n",
      "none value ratio: 0.00% | Data type: string | Status: Good\n",
      "'Director' \n",
      "none value ratio: 0.00% | Data type: string | Status: Good\n",
      "'Genre' \n",
      "none value ratio: 0.00% | Data type: string | Status: Good\n",
      "'Release Date' \n",
      "none value ratio: 0.00% | Data type: datetime | Status: Good\n",
      "'Duration' \n",
      "none value ratio: 0.00% | Data type: int64 | Status: Good\n",
      "'Rating' \n",
      "none value ratio: 0.00% | Data type: float64 | Status: Good\n"
     ]
    }
   ],
   "source": [
    "df = pd.read_csv(\"dataset/movies.csv\")\n",
    "df['Release Date'] = pd.to_datetime(df['Release Date'], errors='coerce')\n",
    "print_nan_ratios(df)\n"
   ]
  },
  {
   "cell_type": "code",
   "execution_count": 17,
   "metadata": {},
   "outputs": [
    {
     "name": "stdout",
     "output_type": "stream",
     "text": [
      "<class 'pandas.core.frame.DataFrame'>\n",
      "RangeIndex: 30000 entries, 0 to 29999\n",
      "Data columns (total 6 columns):\n",
      " #   Column        Non-Null Count  Dtype         \n",
      "---  ------        --------------  -----         \n",
      " 0   Title         30000 non-null  object        \n",
      " 1   Director      30000 non-null  object        \n",
      " 2   Genre         30000 non-null  object        \n",
      " 3   Release Date  30000 non-null  datetime64[ns]\n",
      " 4   Duration      30000 non-null  int64         \n",
      " 5   Rating        30000 non-null  float64       \n",
      "dtypes: datetime64[ns](1), float64(1), int64(1), object(3)\n",
      "memory usage: 1.4+ MB\n",
      "None\n",
      "Title\n",
      "Thing.                     10\n",
      "Right.                      9\n",
      "Room.                       8\n",
      "Strategy.                   8\n",
      "Fear.                       8\n",
      "                           ..\n",
      "Network place at.           1\n",
      "Lawyer just.                1\n",
      "Finish oil by practice.     1\n",
      "Such employee true.         1\n",
      "Shoulder above note.        1\n",
      "Name: count, Length: 28216, dtype: int64\n",
      "Director\n",
      "James Smith          13\n",
      "Christopher Smith    12\n",
      "Lisa Smith           11\n",
      "Michael Miller       10\n",
      "Michael Smith        10\n",
      "                     ..\n",
      "Brett Fischer         1\n",
      "Christian Todd        1\n",
      "Jillian Long          1\n",
      "Jennifer Mckinney     1\n",
      "Cathy Edwards         1\n",
      "Name: count, Length: 25844, dtype: int64\n",
      "Genre\n",
      "Fantasy        3047\n",
      "Horror         3027\n",
      "Sci-Fi         3019\n",
      "Action         3019\n",
      "Thriller       3014\n",
      "Romance        2991\n",
      "Adventure      2990\n",
      "Drama          2982\n",
      "Comedy         2969\n",
      "Documentary    2942\n",
      "Name: count, dtype: int64\n"
     ]
    }
   ],
   "source": [
    "print(df.info())\n",
    "df.describe()\n"
   ]
  },
  {
   "cell_type": "code",
   "execution_count": null,
   "metadata": {},
   "outputs": [],
   "source": []
  }
 ],
 "metadata": {
  "kernelspec": {
   "display_name": "base",
   "language": "python",
   "name": "python3"
  },
  "language_info": {
   "codemirror_mode": {
    "name": "ipython",
    "version": 3
   },
   "file_extension": ".py",
   "mimetype": "text/x-python",
   "name": "python",
   "nbconvert_exporter": "python",
   "pygments_lexer": "ipython3",
   "version": "3.11.7"
  }
 },
 "nbformat": 4,
 "nbformat_minor": 2
}
